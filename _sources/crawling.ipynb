{
  "cells": [
    {
      "cell_type": "markdown",
      "source": [
        "# crawling\n",
        "\n",
        "## tugas melakukan crawling\n",
        "\n",
        "## Langkah-langkah mengerjakan\n",
        "Siapkan website untuk kalian crawling, dalam contoh kasus ini kita akan mengambil jurnal yang ada di website springer nature. Selanjutnya, buka website https://dev.springernature.com/ lalu buat akun untuk mendapat API yang kalian butuhkan (meta API), copy API yang kalian dapatkan dan paste ke kode yang telah kalian buat.\n",
        "\n",
        "Setelah itu, ketikkan kata kunci yang ingin kalian cari di kode bagian q:\"(disini kalian isi apa yang kalian inginn cari)\" kemudian run kode lalu setelah itu akan muncul semua judul yang mencakup kata kunci yang telah diketikkan sebelumnya. Dan, buat kode untuk mengkonversikan output dari kode kalian menjadi file csv."
      ],
      "metadata": {
        "id": "HRq71WHd3p4_"
      }
    },
    {
      "cell_type": "code",
      "execution_count": null,
      "metadata": {
        "colab": {
          "base_uri": "https://localhost:8080/"
        },
        "id": "KMZoZ0zrmKaH",
        "outputId": "ada877d9-4c31-4951-a34b-dcc612b88206"
      },
      "outputs": [
        {
          "output_type": "stream",
          "name": "stdout",
          "text": [
            "Requirement already satisfied: sprynger in /usr/local/lib/python3.12/dist-packages (0.4.1)\n",
            "Requirement already satisfied: lxml in /usr/local/lib/python3.12/dist-packages (from sprynger) (5.4.0)\n",
            "Requirement already satisfied: requests in /usr/local/lib/python3.12/dist-packages (from sprynger) (2.32.4)\n",
            "Requirement already satisfied: urllib3 in /usr/local/lib/python3.12/dist-packages (from sprynger) (2.5.0)\n",
            "Requirement already satisfied: platformdirs in /usr/local/lib/python3.12/dist-packages (from sprynger) (4.3.8)\n",
            "Requirement already satisfied: charset_normalizer<4,>=2 in /usr/local/lib/python3.12/dist-packages (from requests->sprynger) (3.4.3)\n",
            "Requirement already satisfied: idna<4,>=2.5 in /usr/local/lib/python3.12/dist-packages (from requests->sprynger) (3.10)\n",
            "Requirement already satisfied: certifi>=2017.4.17 in /usr/local/lib/python3.12/dist-packages (from requests->sprynger) (2025.8.3)\n"
          ]
        }
      ],
      "source": [
        "pip install sprynger"
      ]
    },
    {
      "cell_type": "code",
      "execution_count": 1,
      "metadata": {
        "colab": {
          "base_uri": "https://localhost:8080/"
        },
        "id": "LOIdoEH2naZq",
        "outputId": "2c147684-e831-4c95-ef74-a2f830917f0a"
      },
      "outputs": [
        {
          "output_type": "stream",
          "name": "stdout",
          "text": [
            "Total hasil: 317019\n",
            "\n",
            "DOI: 10.1007/978-3-032-00983-8_5\n",
            "Title: Survey on Data Mining and Machine Learning Methods Used in Analyzing Tweets\n",
            "Abstract: It is observed that the Mental illness by the actions and individual emotions and expressions towards a particular situation. It indicates that American Psychiatric Association that has 19% of people experience mental illness. Nearly 4.1% of people [ 1 ] are seriously affected by mental illness. In 2019, World Health Organization(WHO) reported that 264 million people suffer from mental disorders. With the technological growth and affordable internet access, social media usage and impacts are increased in society. Users use social networks to show their emotions, views, and comments related to mental health on various events and themselves. Different intelligent methods that analyze tweets related to depression are summarized. New research areas in analyzing data on social networks are discussed. This article highlights the data mining and machine learning methods associated with mental health using Twitter data.\n",
            "\n",
            "DOI: 10.1007/978-3-031-93802-3_7\n",
            "Title: Unveiling Power Laws in Graph Mining: Techniques and Applications in Graph Query Analysis\n",
            "Abstract: Power laws play a crucial role in understanding the structural and functional properties of real-world graphs, influencing various aspects of graph mining and query processing. This paper explores the prevalence of power-law distributions in large-scale graph structures and their implications for graph query analysis. We investigate techniques for efficiently mining graphs that exhibit power-law characteristics, leveraging these distributions to optimize query performance and scalability. Our study presents a comprehensive review of existing methodologies for detecting power-law behavior in graphs, highlighting their impact on graph traversal, indexing, and query execution. We also examine algorithmic optimizations tailored for power-law graphs, including degree-based indexing, community-aware search techniques, and efficient subgraph matching approaches. Furthermore, we discuss the applications of power-law principles in diverse domains such as social network analysis, bioinformatics, and knowledge graphs. Through empirical analysis on real-world datasets, we demonstrate how power-law-aware techniques improve query efficiency and reduce computational complexity in large graph databases. The findings of this study offer valuable insights into the interplay between graph topology and query optimization, paving the way for enhanced graph mining frameworks. Our work contributes to the development of more scalable and intelligent graph query processing systems, with broad implications for data-driven decision-making.\n",
            "\n",
            "DOI: 10.1007/978-981-96-7238-7_2\n",
            "Title: Architecture Mining Approach for Systems-of-Systems: Monitoring and Discovery\n",
            "Abstract: Context: Systems of Systems (SoS) constitute a type of complex software systems resulting from integrating heterogeneous constituent systems that are independently operable on their own but are networked together for a common goal. Each constituent system has its own purpose and could operate and collaborate voluntarily with other constituent systems to achieve a common goal that cannot be treated by any of them in isolation. Objective: A constituent system may be deployed or undeployed at run-time within an SoS. Emergent behaviors may be undesirable and affect the behaviors of each constituent system and lead to unexpected operations and a lack of permanent status in the SoS. Thus, we need to continuously extract and represent the actual behaviors within the SoS at run-time. Method: In this paper, we implement the first step our “Architecture Mining” approach. Thus, we monitor an SoS and develop Discovery algorithm to extract the actual behaviors. The actual behaviors are presented by a “Discovered Model” dynamically and automatically built from the execution traces. Results: To implement our approach, we applied it to a case study entitled Smart City, which is an SoS including six types of constituent systems. We extracted the actual behaviors executed at run time from the SoS execution traces, which have never been modeled in any constituent system nor expected by the designer.\n",
            "\n",
            "DOI: 10.1007/978-3-031-95296-8_15\n",
            "Title: A Mathematical Model and Algorithm for Data Analysis in the Intelligent Management System for Mining and Transport Complexes\n",
            "Abstract: Machine learning methods play an important role in creating algorithms for data analysis in the mining industry. These methods allow you to train the system based on historical data and identify hidden patterns that may not be obvious in traditional analysis. Machine learning algorithms can be used to predict breakdowns, optimize production processes and identify anomalies in the operation of machinery. For example, with the help of training on data on the operation of equipment, you can create a model that will predict the probability of failure of a certain part under specified operating conditions.\n",
            "\n",
            "DOI: 10.1007/978-3-031-90470-7_6\n",
            "Title: ‘Internet of Things’ and ‘Social Networking’: Containment\n",
            "Abstract: Moving to the post-2000 period, or the post-formation Internet Polity, this chapter begins with the implications of the internet becoming the centred repository of sources, medium of investigation, and object in historicist accounts of recent and contemporary events. Debates on ‘technological determinism Technological determinism ’ are considered here. As events, 9/11 and the 2000 dot-com crash are pegged as turning points. A broad argument is proposed about the condition of the Internet Polity thereafter. It is suggested that it became contained in two moves during the 2000s. This containment involved, first, a space of the internet opening beyond the scope of the Internet Polity. This space incorporated data exchanges between ‘smart’ objects, unsupervised systems, and machine-learning systems. Second, much of the Internet Polity discourse and collective life became concentrated in very large platforms, which have global reach, local penetration, and data-management standards. This move facilitated the burgeoning data market and fed into the first move. The two moves are outlined by focusing on two catchwords and related terms. The first is addressed via the connotations of ‘Internet of Things’ and ‘smart’ objects, and the second by pausing on ‘social networking’ (on ‘sites’ or ‘platforms’). This chapter, and the study, concludes by briefly reconsidering the formative first principles of the Internet Polity, and pinpointing areas for further investigations.\n",
            "\n",
            "DOI: 10.1007/978-3-031-93802-3_10\n",
            "Title: Integrating Graph Convolutional Networks for Web Traffic Prediction\n",
            "Abstract: Web traffic forecasting plays a crucial role in optimizing network resources, enhancing user experience, and ensuring efficient server load management. Traditional approaches, such as ARIMA, SARIMA, and machine learning methods like support vector machines and decision trees, focus primarily on temporal data. These models, however, often fail to capture the intricate relationships within web traffic data, such as user interactions or page-to-page connections, resulting in sub-optimal predictive performance. Graph Convolutional Networks (GCNs) address these limitations by modeling web traffic as a graph, where web pages or users are represented as nodes, and their interactions form edges. GCNs aggregate node information through graph structures, enabling the model to learn both spatial and temporal dependencies inherent in web traffic. This ability to exploit complex data relationships makes GCNs well-suited for more accurate and dynamic web traffic predictions. In this work, we propose a GCN-based framework for web traffic forecasting, incorporating multiple optimizers like Adam, RMSProp, and SGD to identify the model’s fair performance. By optimizing training through these methods, the GCN model efficiently captures both short-term fluctuations and long-term trends in web traffic patterns. Our study highlights the potential of GCNs in elevating the accuracy and reliability of web traffic forecasting. The integration of advanced optimizers further enhances convergence and prediction efficiency, offering a more scalable solution to meet the demands of rapidly growing and complex web systems.\n",
            "\n",
            "DOI: 10.1007/978-3-031-93257-1_6\n",
            "Title: Adaptive Web API Recommendation via Matching Service Clusters and Mashup Requirement\n",
            "Abstract: With the rapid proliferation of Web services and Web APIs, recommendation systems can effectively address the issue of information overload and alleviate the burden of meaningless filtering. Existing approaches can help filtering appropriate Web services for mashup creation, however, they often fall short of developers’ different and personalized needs by recommending only a fixed number of APIs and lack precision in aligning mashup requirements across all categories. To solve the above issue, this paper introduces a novel Web service recommendation framework called AWAR for mashup creation, which focuses on the matching strategy between mashup requirements and Web APIs, and enhances recommendation effectiveness by integrating natural language processing, optimization algorithms, and deep learning. Extensive experiments conducted on large-scale real datasets demonstrate that the proposed approach receives superior recommendation results on multiple evaluation metrics compared to advanced competing baselines.\n",
            "\n",
            "DOI: 10.1007/978-3-032-02215-8_3\n",
            "Title: Leveraging Machine Learning Techniques for Customer Data Deduplication - Hard-Won Lessons from a Real-World Project in the Financial Industry\n",
            "Abstract: This paper is associated with a tutorial presented at DEXA 2025 Conferences and Workshops. The tutorial shares the practical experience gained from a 3-year R&D project for a big financial institution in Poland. The project aimed at developing deduplication pipelines for customer records. It involved the development of two distinct end-to-end deduplication pipelines that are based on (1) statistical/probabilistic modeling and on (2) machine learning. This tutorial focuses on lessons learned from developing the machine learning pipeline , within the context of a real-world industrial setting. Moreover, this tutorial provides an overview of approaches to data deduplication, including the traditional state-of-the-art baseline deduplication pipeline, solutions based on machine learning and neural networks that apply pre-trained and large language models.\n",
            "\n",
            "DOI: 10.1007/978-3-031-95296-8_21\n",
            "Title: Intelligent Control System for Ore Transportation and Grinding Process in Gold Mining Fields\n",
            "Abstract: This paper is devoted to optimizing the processes of work using intellectual control systems for the transportation and grinding of ore in gold mining fields. Ore is being optimized through the introduction of modern technologies and information systems in the transportation and grinding processes in order to increase efficiency, reduce energy consumption and reduce production costs. The paper examines the applications of IoT technologies, artificial intelligence, and large-scale data analysis in ore transport and grinding processes. With these systems, there is talk of monitoring processes in real time and improving the efficiency of equipment operation. New methods for managing ore transport and grinding processes through mathematical models, optimization algorithms and artificial neural networks are also presented. The results of scientific research in this paper can contribute to innovations and technological developments in the field of gold mining. Improving efficiency through automation of gold mining processes and intellectual management systems not only contributes to economic benefits, but also to the protection of the environment.\n",
            "\n",
            "DOI: 10.1007/978-3-032-02088-8_29\n",
            "Title: Benchmarking Embedding Techniques for Modeling User Navigation Behavior on Task-Oriented Software\n",
            "Abstract: Understanding user navigation patterns from clickstream data is crucial for improving business software, yet remains challenging due to the complexity and variability of real-world environments. Unlike controlled settings, real-world clickstreams are noisy, fragmented, and often incomplete, due to session timeouts, network issues, caching, or third-party interactions—making it difficult to reconstruct coherent user journeys. Additionally, the absence of labeled data hinders the use of supervised learning, pushing researchers toward unsupervised or heuristic-based approaches that struggle to fully capture user behavior. In this paper, we present a benchmark of embedding techniques for modeling user navigation behavior on task-oriented software. We identify distinct user behaviors across three real-world case studies. Results show that Pattern2Vec outperforms Word2Vec in capturing meaningful task-based navigation patterns, confirming its suitability for clickstream analysis.\n",
            "\n"
          ]
        }
      ],
      "source": [
        "import requests\n",
        "# Silahkan membuat api key dari https://dev.springernature.com/#api\n",
        "api_key = \"ce144a12624a303d0e0047e0bd6349a8\"\n",
        "isbn = \"978-3-031-63497-0\"\n",
        "\n",
        "url = \"https://api.springernature.com/meta/v2/json\"\n",
        "params = {\n",
        "    \"q\": f\"web mining\",\n",
        "    \"api_key\": api_key,\n",
        "    \"p\": 10\n",
        "}\n",
        "\n",
        "response = requests.get(url, params=params)\n",
        "\n",
        "if response.status_code == 200:\n",
        "    data = response.json()\n",
        "    print(f\"Total hasil: {data['result'][0]['total']}\\n\")\n",
        "    for record in data['records']:\n",
        "        doi = record.get('doi', 'N/A')\n",
        "        title = record.get('title', 'No title')\n",
        "        abstract = record.get('abstract', 'No abstract')\n",
        "        print(f\"DOI: {doi}\")\n",
        "        print(f\"Title: {title}\")\n",
        "        print(f\"Abstract: {abstract}\\n\")\n",
        "else:\n",
        "    print(\"Error:\", response.status_code, response.text)"
      ]
    },
    {
      "cell_type": "markdown",
      "source": [
        "## dibawah ini akan berisi cara untuk menyimpan hasil dari crawling ke dalam file csv"
      ],
      "metadata": {
        "id": "Em_p_cKg7s3Y"
      }
    },
    {
      "cell_type": "code",
      "execution_count": null,
      "metadata": {
        "colab": {
          "base_uri": "https://localhost:8080/"
        },
        "id": "iIkTlVydqNkY",
        "outputId": "024cf49a-8f90-4ebe-cd57-4a3aa70816b1"
      },
      "outputs": [
        {
          "output_type": "stream",
          "name": "stdout",
          "text": [
            "[web mining] Total hasil: 317019\n",
            "DOI: 10.1007/978-3-032-00983-8_5\n",
            "Title: Survey on Data Mining and Machine Learning Methods Used in Analyzing Tweets\n",
            "Abstract: It is observed that the Mental illness by the actions and individual emotions and expressions towards a particular situation. It indicates that Americ...\n",
            "\n",
            "DOI: 10.1007/978-3-031-93802-3_7\n",
            "Title: Unveiling Power Laws in Graph Mining: Techniques and Applications in Graph Query Analysis\n",
            "Abstract: Power laws play a crucial role in understanding the structural and functional properties of real-world graphs, influencing various aspects of graph mi...\n",
            "\n",
            "DOI: 10.1007/978-981-96-7238-7_2\n",
            "Title: Architecture Mining Approach for Systems-of-Systems: Monitoring and Discovery\n",
            "Abstract: Context: Systems of Systems (SoS) constitute a type of complex software systems resulting from integrating heterogeneous constituent systems that are ...\n",
            "\n",
            "DOI: 10.1007/978-3-031-95296-8_15\n",
            "Title: A Mathematical Model and Algorithm for Data Analysis in the Intelligent Management System for Mining and Transport Complexes\n",
            "Abstract: Machine learning methods play an important role in creating algorithms for data analysis in the mining industry. These methods allow you to train the ...\n",
            "\n",
            "DOI: 10.1007/978-3-031-90470-7_6\n",
            "Title: ‘Internet of Things’ and ‘Social Networking’: Containment\n",
            "Abstract: Moving to the post-2000 period, or the post-formation Internet Polity, this chapter begins with the implications of the internet becoming the centred ...\n",
            "\n",
            "DOI: 10.1007/978-3-031-93802-3_10\n",
            "Title: Integrating Graph Convolutional Networks for Web Traffic Prediction\n",
            "Abstract: Web traffic forecasting plays a crucial role in optimizing network resources, enhancing user experience, and ensuring efficient server load management...\n",
            "\n",
            "DOI: 10.1007/978-3-031-93257-1_6\n",
            "Title: Adaptive Web API Recommendation via Matching Service Clusters and Mashup Requirement\n",
            "Abstract: With the rapid proliferation of Web services and Web APIs, recommendation systems can effectively address the issue of information overload and allevi...\n",
            "\n",
            "DOI: 10.1007/978-3-032-02215-8_3\n",
            "Title: Leveraging Machine Learning Techniques for Customer Data Deduplication - Hard-Won Lessons from a Real-World Project in the Financial Industry\n",
            "Abstract: This paper is associated with a tutorial presented at DEXA 2025 Conferences and Workshops. The tutorial shares the practical experience gained from a ...\n",
            "\n",
            "DOI: 10.1007/978-3-031-95296-8_21\n",
            "Title: Intelligent Control System for Ore Transportation and Grinding Process in Gold Mining Fields\n",
            "Abstract: This paper is devoted to optimizing the processes of work using intellectual control systems for the transportation and grinding of ore in gold mining...\n",
            "\n",
            "DOI: 10.1007/978-3-032-02088-8_29\n",
            "Title: Benchmarking Embedding Techniques for Modeling User Navigation Behavior on Task-Oriented Software\n",
            "Abstract: Understanding user navigation patterns from clickstream data is crucial for improving business software, yet remains challenging due to the complexity...\n",
            "\n",
            "[web usage mining] Total hasil: 90635\n",
            "DOI: 10.1007/978-3-031-90470-7_6\n",
            "Title: ‘Internet of Things’ and ‘Social Networking’: Containment\n",
            "Abstract: Moving to the post-2000 period, or the post-formation Internet Polity, this chapter begins with the implications of the internet becoming the centred ...\n",
            "\n",
            "DOI: 10.1007/978-3-032-00983-8_5\n",
            "Title: Survey on Data Mining and Machine Learning Methods Used in Analyzing Tweets\n",
            "Abstract: It is observed that the Mental illness by the actions and individual emotions and expressions towards a particular situation. It indicates that Americ...\n",
            "\n",
            "DOI: 10.1007/978-3-031-93802-3_7\n",
            "Title: Unveiling Power Laws in Graph Mining: Techniques and Applications in Graph Query Analysis\n",
            "Abstract: Power laws play a crucial role in understanding the structural and functional properties of real-world graphs, influencing various aspects of graph mi...\n",
            "\n",
            "DOI: 10.1007/978-3-032-02215-8_7\n",
            "Title: An Enhanced FP-Growth Algorithm with Hybrid Adaptive Support Threshold for Association Rule Mining\n",
            "Abstract: Finding frequent itemsets remains challenging due to manual threshold specification requirements in existing algorithms. This paper presents an Enhanc...\n",
            "\n",
            "DOI: 10.1007/978-3-031-93257-1_6\n",
            "Title: Adaptive Web API Recommendation via Matching Service Clusters and Mashup Requirement\n",
            "Abstract: With the rapid proliferation of Web services and Web APIs, recommendation systems can effectively address the issue of information overload and allevi...\n",
            "\n",
            "DOI: 10.1007/978-3-032-02088-8_29\n",
            "Title: Benchmarking Embedding Techniques for Modeling User Navigation Behavior on Task-Oriented Software\n",
            "Abstract: Understanding user navigation patterns from clickstream data is crucial for improving business software, yet remains challenging due to the complexity...\n",
            "\n",
            "DOI: 10.1007/978-3-032-01723-9_9\n",
            "Title: Analyzing Water Consumption Patterns in Mexico City: A GIS and Data Science Approach\n",
            "Abstract: Water scarcity in Mexico City has become an increasingly urgent issue, exacerbated by inefficient and unequal consumption patterns across its urban fa...\n",
            "\n",
            "DOI: 10.1007/978-981-96-6951-6_19\n",
            "Title: Research on Sensor Behavioral Psychological Health Based on Multi-task Learning\n",
            "Abstract: As society develops, mental health is becoming increasingly important. Traditional mental health assessment methods, such as face-to-face interviews a...\n",
            "\n",
            "DOI: 10.1007/978-3-031-89518-0_1\n",
            "Title: On the Centrality of Web Trackers: Assessing Its Potential for Automated Detection\n",
            "Abstract: For the past 20 years, web tracking has raised worries among privacy advocates and authorities responsible for data protection. Researchers have propo...\n",
            "\n",
            "DOI: 10.1007/978-3-032-02215-8_6\n",
            "Title: FNoDe: Faulty Node Detection in Microservices Architecture\n",
            "Abstract: As cloud services shift from monolithic architectures to microservices, post-failure fault and anomaly detection becomes increasingly challenging due ...\n",
            "\n",
            "[web content mining] Total hasil: 317019\n",
            "DOI: 10.1007/978-3-032-00983-8_5\n",
            "Title: Survey on Data Mining and Machine Learning Methods Used in Analyzing Tweets\n",
            "Abstract: It is observed that the Mental illness by the actions and individual emotions and expressions towards a particular situation. It indicates that Americ...\n",
            "\n",
            "DOI: 10.1007/978-3-031-93802-3_7\n",
            "Title: Unveiling Power Laws in Graph Mining: Techniques and Applications in Graph Query Analysis\n",
            "Abstract: Power laws play a crucial role in understanding the structural and functional properties of real-world graphs, influencing various aspects of graph mi...\n",
            "\n",
            "DOI: 10.1007/978-3-031-90470-7_6\n",
            "Title: ‘Internet of Things’ and ‘Social Networking’: Containment\n",
            "Abstract: Moving to the post-2000 period, or the post-formation Internet Polity, this chapter begins with the implications of the internet becoming the centred ...\n",
            "\n",
            "DOI: 10.1007/978-981-96-7238-7_2\n",
            "Title: Architecture Mining Approach for Systems-of-Systems: Monitoring and Discovery\n",
            "Abstract: Context: Systems of Systems (SoS) constitute a type of complex software systems resulting from integrating heterogeneous constituent systems that are ...\n",
            "\n",
            "DOI: 10.1007/978-3-031-95296-8_15\n",
            "Title: A Mathematical Model and Algorithm for Data Analysis in the Intelligent Management System for Mining and Transport Complexes\n",
            "Abstract: Machine learning methods play an important role in creating algorithms for data analysis in the mining industry. These methods allow you to train the ...\n",
            "\n",
            "DOI: 10.1007/978-3-031-93802-3_10\n",
            "Title: Integrating Graph Convolutional Networks for Web Traffic Prediction\n",
            "Abstract: Web traffic forecasting plays a crucial role in optimizing network resources, enhancing user experience, and ensuring efficient server load management...\n",
            "\n",
            "DOI: 10.1007/978-3-031-93257-1_6\n",
            "Title: Adaptive Web API Recommendation via Matching Service Clusters and Mashup Requirement\n",
            "Abstract: With the rapid proliferation of Web services and Web APIs, recommendation systems can effectively address the issue of information overload and allevi...\n",
            "\n",
            "DOI: 10.1007/978-3-032-02215-8_3\n",
            "Title: Leveraging Machine Learning Techniques for Customer Data Deduplication - Hard-Won Lessons from a Real-World Project in the Financial Industry\n",
            "Abstract: This paper is associated with a tutorial presented at DEXA 2025 Conferences and Workshops. The tutorial shares the practical experience gained from a ...\n",
            "\n",
            "DOI: 10.1007/978-3-031-89518-0_1\n",
            "Title: On the Centrality of Web Trackers: Assessing Its Potential for Automated Detection\n",
            "Abstract: For the past 20 years, web tracking has raised worries among privacy advocates and authorities responsible for data protection. Researchers have propo...\n",
            "\n",
            "DOI: 10.1007/978-3-032-01723-9_10\n",
            "Title: Geospatially-Informed Recommendations for Automobile Purchases: Integrating Spatial Analysis for Enhanced Decision-Making\n",
            "Abstract: This research proposes an integrated recommendation framework to support automobile purchase decisions by aligning consumer preferences with spatial a...\n",
            "\n"
          ]
        }
      ],
      "source": [
        "import requests\n",
        "import csv\n",
        "\n",
        "# API Key Springer\n",
        "api_key = \"ce144a12624a303d0e0047e0bd6349a8\"\n",
        "\n",
        "# Daftar kata kunci pencarian\n",
        "keywords = [\"web mining\", \"web usage mining\", \"web content mining\"]\n",
        "\n",
        "# URL endpoint API Springer\n",
        "url = \"https://api.springernature.com/meta/v2/json\"\n",
        "\n",
        "# Buat file CSV\n",
        "with open(\"springer_crawling.csv\", \"w\", newline=\"\", encoding=\"utf-8\") as csvfile:\n",
        "    writer = csv.writer(csvfile)\n",
        "    # Header CSV\n",
        "    writer.writerow([\"keyword\", \"doi\", \"title\", \"abstract\"])\n",
        "\n",
        "    # Loop setiap keyword\n",
        "    for keyword in keywords:\n",
        "        params = {\n",
        "            \"q\": keyword,\n",
        "            \"api_key\": api_key,\n",
        "            \"p\": 10   # jumlah hasil per query (maks 50 per request)\n",
        "        }\n",
        "\n",
        "        response = requests.get(url, params=params)\n",
        "\n",
        "        if response.status_code == 200:\n",
        "            data = response.json()\n",
        "            total = data['result'][0]['total']\n",
        "            print(f\"[{keyword}] Total hasil: {total}\")\n",
        "\n",
        "            # Simpan ke CSV\n",
        "            for record in data['records']:\n",
        "                doi = record.get('doi', 'N/A')\n",
        "                title = record.get('title', 'No title')\n",
        "                abstract = record.get('abstract', 'No abstract')\n",
        "\n",
        "                writer.writerow([keyword, doi, title, abstract])\n",
        "\n",
        "                # Print di console (opsional)\n",
        "                print(f\"DOI: {doi}\")\n",
        "                print(f\"Title: {title}\")\n",
        "                print(f\"Abstract: {abstract[:150]}...\\n\")\n",
        "        else:\n",
        "            print(f\"Error {response.status_code} untuk keyword {keyword}\")"
      ]
    },
    {
      "cell_type": "markdown",
      "metadata": {
        "id": "a38f7cc1"
      },
      "source": [
        "## Simpan Hasil ke CSV"
      ]
    },
    {
      "cell_type": "code",
      "execution_count": null,
      "metadata": {
        "id": "31d2851d",
        "colab": {
          "base_uri": "https://localhost:8080/"
        },
        "outputId": "31abc796-3c98-47e3-baad-5b45e7d0a2e5"
      },
      "outputs": [
        {
          "output_type": "stream",
          "name": "stdout",
          "text": [
            "Belum ada hasil crawling. Pastikan sudah menjalankan proses crawling.\n"
          ]
        }
      ],
      "source": [
        "# --- Simpan hasil crawling ke CSV ---\n",
        "import pandas as pd\n",
        "\n",
        "if 'all_results' in globals() and all_results:\n",
        "    df = pd.DataFrame(all_results)\n",
        "    output_csv = \"crawling_results.csv\"\n",
        "    df.to_csv(output_csv, index=False, encoding=\"utf-8\")\n",
        "    print(f\"Hasil crawling berhasil disimpan ke {output_csv} dengan {len(df)} baris.\")\n",
        "    display(df.head(10))\n",
        "else:\n",
        "    print(\"Belum ada hasil crawling. Pastikan sudah menjalankan proses crawling.\")"
      ]
    },
    {
      "cell_type": "code",
      "metadata": {
        "colab": {
          "base_uri": "https://localhost:8080/",
          "height": 35
        },
        "id": "02070a3b",
        "outputId": "25773bd0-c135-45f2-8701-9631c19856a9"
      },
      "source": [
        "from google.colab import files\n",
        "\n",
        "# Nama file CSV yang ingin diunduh\n",
        "output_csv_filename = \"springer_crawling.csv\"\n",
        "\n",
        "try:\n",
        "    files.download(output_csv_filename)\n",
        "    print(f\"File '{output_csv_filename}' berhasil diunduh.\")\n",
        "except FileNotFoundError:\n",
        "    print(f\"File '{output_csv_filename}' tidak ditemukan. Pastikan file sudah dibuat.\")"
      ],
      "execution_count": null,
      "outputs": [
        {
          "output_type": "display_data",
          "data": {
            "text/plain": [
              "<IPython.core.display.Javascript object>"
            ],
            "application/javascript": [
              "\n",
              "    async function download(id, filename, size) {\n",
              "      if (!google.colab.kernel.accessAllowed) {\n",
              "        return;\n",
              "      }\n",
              "      const div = document.createElement('div');\n",
              "      const label = document.createElement('label');\n",
              "      label.textContent = `Downloading \"${filename}\": `;\n",
              "      div.appendChild(label);\n",
              "      const progress = document.createElement('progress');\n",
              "      progress.max = size;\n",
              "      div.appendChild(progress);\n",
              "      document.body.appendChild(div);\n",
              "\n",
              "      const buffers = [];\n",
              "      let downloaded = 0;\n",
              "\n",
              "      const channel = await google.colab.kernel.comms.open(id);\n",
              "      // Send a message to notify the kernel that we're ready.\n",
              "      channel.send({})\n",
              "\n",
              "      for await (const message of channel.messages) {\n",
              "        // Send a message to notify the kernel that we're ready.\n",
              "        channel.send({})\n",
              "        if (message.buffers) {\n",
              "          for (const buffer of message.buffers) {\n",
              "            buffers.push(buffer);\n",
              "            downloaded += buffer.byteLength;\n",
              "            progress.value = downloaded;\n",
              "          }\n",
              "        }\n",
              "      }\n",
              "      const blob = new Blob(buffers, {type: 'application/binary'});\n",
              "      const a = document.createElement('a');\n",
              "      a.href = window.URL.createObjectURL(blob);\n",
              "      a.download = filename;\n",
              "      div.appendChild(a);\n",
              "      a.click();\n",
              "      div.remove();\n",
              "    }\n",
              "  "
            ]
          },
          "metadata": {}
        },
        {
          "output_type": "display_data",
          "data": {
            "text/plain": [
              "<IPython.core.display.Javascript object>"
            ],
            "application/javascript": [
              "download(\"download_8e77378c-52c4-4e7a-891c-fa0f3e02ec6b\", \"springer_crawling.csv\", 40417)"
            ]
          },
          "metadata": {}
        },
        {
          "output_type": "stream",
          "name": "stdout",
          "text": [
            "File 'springer_crawling.csv' berhasil diunduh.\n"
          ]
        }
      ]
    },
    {
      "cell_type": "markdown",
      "metadata": {
        "id": "1299bc08"
      },
      "source": [
        "## Simpan Hasil ke CSV\n",
        "\n",
        "Kode di sel ini bertanggung jawab untuk melakukan crawling data dari API Springer Nature berdasarkan daftar kata kunci yang telah ditentukan dan menyimpannya ke dalam file CSV lokal.\n",
        "\n",
        "**Langkah-langkah yang dilakukan:**\n",
        "\n",
        "1.  **Import Library:** Mengimpor library `requests` untuk membuat permintaan HTTP ke API dan `csv` untuk bekerja dengan file CSV.\n",
        "2.  **Inisialisasi Variabel:** Menentukan API Key Springer Anda, daftar kata kunci yang akan dicari, dan URL endpoint API.\n",
        "3.  **Membuat File CSV:** Membuka (atau membuat jika belum ada) file CSV bernama `springer_crawling.csv` dalam mode tulis (`\"w\"`). `newline=\"\"` mencegah penambahan baris kosong di antara baris, dan `encoding=\"utf-8\"` memastikan karakter khusus dapat ditangani dengan benar.\n",
        "4.  **Menulis Header CSV:** Menulis baris header ke file CSV, yang akan menjadi nama kolom data (keyword, doi, title, abstract).\n",
        "5.  **Loop Kata Kunci:** Mengiterasi melalui setiap kata kunci dalam daftar `keywords`.\n",
        "6.  **Membuat Permintaan API:** Untuk setiap kata kunci, membuat dictionary `params` yang berisi parameter query (kata kunci, API key, dan jumlah hasil per halaman `p`). Kemudian, menggunakan `requests.get()` untuk mengirim permintaan GET ke API Springer.\n",
        "7.  **Memeriksa Status Respon:** Memeriksa apakah status kode respon adalah 200 (OK). Jika ya, ini berarti permintaan berhasil.\n",
        "8.  **Memproses Data Hasil:** Jika permintaan berhasil, mengurai respon JSON menjadi dictionary Python. Mengakses total hasil dari data.\n",
        "9.  **Menyimpan ke CSV:** Mengiterasi melalui setiap `record` (artikel/publikasi) dalam respon data. Mengekstrak informasi seperti DOI, judul, dan abstrak. Menggunakan `writer.writerow()` untuk menulis baris data ke file CSV.\n",
        "10. **Menampilkan Hasil (Opsional):** Mencetak informasi DOI, judul, dan sebagian abstrak ke konsol untuk memantau proses.\n",
        "11. **Menangani Error:** Jika status kode respon bukan 200, mencetak pesan error.\n",
        "\n",
        "Setelah sel ini selesai dieksekusi, Anda akan memiliki file `springer_crawling.csv` yang berisi data hasil crawling untuk setiap kata kunci."
      ]
    }
  ],
  "metadata": {
    "colab": {
      "provenance": []
    },
    "kernelspec": {
      "display_name": "Python 3",
      "name": "python3"
    },
    "language_info": {
      "name": "python"
    }
  },
  "nbformat": 4,
  "nbformat_minor": 0
}