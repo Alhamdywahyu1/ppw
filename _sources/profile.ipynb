{
 "cells": [
  {
   "cell_type": "markdown",
   "id": "8b9b4d2e",
   "metadata": {},
   "source": [
    "# profile \n",
    "\n",
    "perkenalkan nama saya alhamdy wahyu alfiansah\n",
    "saya berasal dari bangkalan \n",
    "saaat ini saya sedang kuliah di utm semester 5 \n",
    "dan ini adalah web yang saya buat untuk mata kuliah ppw\n",
    "\n",
    "\n",
    "Nama : Alhamdy Wahyu ALfiansyah \n",
    "NIM : 230411100161\n",
    "email : hamdialfian1@gmail.com\n"
   ]
  }
 ],
 "metadata": {
  "language_info": {
   "name": "python"
  }
 },
 "nbformat": 4,
 "nbformat_minor": 5
}
